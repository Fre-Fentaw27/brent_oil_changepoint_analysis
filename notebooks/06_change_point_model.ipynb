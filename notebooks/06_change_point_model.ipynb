{
 "cells": [
  {
   "cell_type": "code",
   "execution_count": 2,
   "id": "ed37fe8e",
   "metadata": {},
   "outputs": [
    {
     "name": "stderr",
     "output_type": "stream",
     "text": [
      "WARNING (pytensor.configdefaults): g++ not available, if using conda: `conda install gxx`\n",
      "WARNING (pytensor.configdefaults): g++ not detected!  PyTensor will be unable to compile C-implementations and will default to Python. Performance may be severely degraded. To remove this warning, set PyTensor flags cxx to an empty string.\n"
     ]
    }
   ],
   "source": [
    "# src/change_point_model.py\n",
    "\n",
    "import pymc as pm\n",
    "import numpy as np\n",
    "import pandas as pd\n",
    "import matplotlib.pyplot as plt\n",
    "import arviz as az\n",
    "\n",
    "def run_change_point_analysis(df: pd.DataFrame, column='daily_return'):\n",
    "    \"\"\"\n",
    "    Run Bayesian change point detection on a specified column using PyMC3.\n",
    "    \n",
    "    Parameters:\n",
    "        df (pd.DataFrame): DataFrame containing the time series data.\n",
    "        column (str): Column to analyze for change points.\n",
    "\n",
    "    Returns:\n",
    "        trace (MultiTrace): PyMC3 trace object.\n",
    "        model (pm.Model): The PyMC3 model.\n",
    "    \"\"\"\n",
    "    data = df[column].dropna().values\n",
    "    n = len(data)\n",
    "\n",
    "    with pm.Model() as model:\n",
    "        # Switch point prior\n",
    "        tau = pm.DiscreteUniform('tau', lower=0, upper=n - 1)\n",
    "\n",
    "        # Priors for mean before and after the change point\n",
    "        mu1 = pm.Normal('mu1', mu=np.mean(data), sd=np.std(data))\n",
    "        mu2 = pm.Normal('mu2', mu=np.mean(data), sd=np.std(data))\n",
    "\n",
    "        # Common standard deviation\n",
    "        sigma = pm.HalfNormal('sigma', sd=1)\n",
    "\n",
    "        # Switching mean\n",
    "        mu = pm.math.switch(tau >= np.arange(n), mu1, mu2)\n",
    "\n",
    "        # Likelihood\n",
    "        obs = pm.Normal('obs', mu=mu, sd=sigma, observed=data)\n",
    "\n",
    "        # Sampling\n",
    "        trace = pm.sample(2000, tune=2000, target_accept=0.95, return_inferencedata=True)\n",
    "\n",
    "    return trace, model\n",
    "\n",
    "\n",
    "def plot_trace(trace):\n",
    "    \"\"\"\n",
    "    Plot trace diagnostics to check convergence.\n",
    "    \n",
    "    Parameters:\n",
    "        trace (MultiTrace): PyMC3 trace object.\n",
    "    \"\"\"\n",
    "    az.plot_trace(trace)\n",
    "    plt.tight_layout()\n",
    "    plt.show()\n",
    "\n",
    "\n",
    "def summarize_results(trace):\n",
    "    \"\"\"\n",
    "    Print summary statistics of the trace.\n",
    "    \n",
    "    Parameters:\n",
    "        trace (MultiTrace): PyMC3 trace object.\n",
    "    \"\"\"\n",
    "    summary = az.summary(trace, round_to=4)\n",
    "    print(summary)\n",
    "    return summary\n"
   ]
  }
 ],
 "metadata": {
  "kernelspec": {
   "display_name": ".venv (3.12.4)",
   "language": "python",
   "name": "python3"
  },
  "language_info": {
   "codemirror_mode": {
    "name": "ipython",
    "version": 3
   },
   "file_extension": ".py",
   "mimetype": "text/x-python",
   "name": "python",
   "nbconvert_exporter": "python",
   "pygments_lexer": "ipython3",
   "version": "3.12.4"
  }
 },
 "nbformat": 4,
 "nbformat_minor": 5
}
